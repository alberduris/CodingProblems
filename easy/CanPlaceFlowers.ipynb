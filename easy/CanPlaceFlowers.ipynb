{
 "cells": [
  {
   "cell_type": "markdown",
   "metadata": {},
   "source": [
    "## 605. Can Place Flowers - <a href=\"https://leetcode.com/problems/can-place-flowers/description/\">Leetcode</a>\n",
    "\n",
    "Suppose you have a long flowerbed in which some of the plots are planted and some are not. However, flowers cannot be planted in adjacent plots - they would compete for water and both would die.\n",
    "\n",
    "Given a flowerbed (represented as an array containing 0 and 1, where 0 means empty and 1 means not empty), and a number n, return if n new flowers can be planted in it without violating the no-adjacent-flowers rule."
   ]
  },
  {
   "cell_type": "markdown",
   "metadata": {},
   "source": [
    "#### Example 1"
   ]
  },
  {
   "cell_type": "raw",
   "metadata": {},
   "source": [
    "Input: flowerbed = [1,0,0,0,1], n = 1\n",
    "Output = True"
   ]
  },
  {
   "cell_type": "markdown",
   "metadata": {},
   "source": [
    "#### Example 2"
   ]
  },
  {
   "cell_type": "raw",
   "metadata": {},
   "source": [
    "Input: flowerbed = [1,0,0,0,1], n = 2\n",
    "Output = False"
   ]
  },
  {
   "cell_type": "markdown",
   "metadata": {},
   "source": [
    "#### Note\n",
    "\n",
    "1. The input array won't violate no-adjacent-flowers rule.\n",
    "2. The input array size is in the range of [1, 20000].\n",
    "3. n is a non-negative integer which won't exceed the input array size."
   ]
  },
  {
   "cell_type": "markdown",
   "metadata": {},
   "source": [
    "## Solution's code"
   ]
  },
  {
   "cell_type": "code",
   "execution_count": 50,
   "metadata": {},
   "outputs": [],
   "source": [
    "class Solution(object):\n",
    "    def canPlaceFlowers(self, flowerbed, n):\n",
    "        \"\"\"\n",
    "        :type flowerbed: List[int]\n",
    "        :type n: int\n",
    "        :rtype: bool\n",
    "        \"\"\"\n",
    "        i, count = 0, 0\n",
    "        while(i < len(flowerbed)):\n",
    "            if(flowerbed[i] == 0 and (i == 0 or flowerbed[i - 1] == 0) and (i == len(flowerbed)-1 or flowerbed[i+1] == 0)):\n",
    "                flowerbed[i] = 1\n",
    "                count += 1\n",
    "            i += 1\n",
    "        return count >= n"
   ]
  },
  {
   "cell_type": "code",
   "execution_count": 54,
   "metadata": {},
   "outputs": [],
   "source": [
    "input = [1,0,0,0,1]\n",
    "n = 1\n",
    "sol = Solution()\n",
    "answer1 = sol.canPlaceFlowers(input,n)\n",
    "\n",
    "input = [1,0,0,0,1]\n",
    "n = 2\n",
    "sol = Solution()\n",
    "answer2 = sol.canPlaceFlowers(input,n)"
   ]
  },
  {
   "cell_type": "markdown",
   "metadata": {},
   "source": [
    "## Examples-Test"
   ]
  },
  {
   "cell_type": "code",
   "execution_count": 55,
   "metadata": {},
   "outputs": [
    {
     "name": "stdout",
     "output_type": "stream",
     "text": [
      "Correct\n"
     ]
    }
   ],
   "source": [
    "correct_answer1 = True\n",
    "correct_answer2 = False\n",
    "if(answer1 == correct_answer1 and answer2 == correct_answer2):\n",
    "    print('Correct')\n",
    "else:\n",
    "    print('Incorrect')"
   ]
  },
  {
   "cell_type": "markdown",
   "metadata": {},
   "source": [
    "## Complexity analysis"
   ]
  },
  {
   "cell_type": "markdown",
   "metadata": {},
   "source": [
    "- Time complexity : O(n). A single scan of the flowerbedflowerbed array of size nn is done.\n",
    "- Space complexity : O(1). Constant extra space is used."
   ]
  },
  {
   "cell_type": "markdown",
   "metadata": {},
   "source": [
    "## Explanation"
   ]
  },
  {
   "cell_type": "markdown",
   "metadata": {},
   "source": [
    "1. Traverse over all the elements of the *flowerbed* and __find out 0 elements__\n",
    "2. For each element:<br>\n",
    "2.1 Check if its __both adjacent positions are also 0__. If so, put a 1 in its place.<br>\n",
    "2.2 For the __first__ and __last__ don't check previous and next"
   ]
  },
  {
   "cell_type": "markdown",
   "metadata": {},
   "source": [
    "## References\n",
    "\n",
    "- Original source: Leetcode - https://leetcode.com/description/can-place-flowers/\n",
    "- Author: @vinod23 - https://leetcode.com/vinod23"
   ]
  },
  {
   "cell_type": "code",
   "execution_count": null,
   "metadata": {
    "collapsed": true
   },
   "outputs": [],
   "source": []
  }
 ],
 "metadata": {
  "kernelspec": {
   "display_name": "Python 3",
   "language": "python",
   "name": "python3"
  },
  "language_info": {
   "codemirror_mode": {
    "name": "ipython",
    "version": 3
   },
   "file_extension": ".py",
   "mimetype": "text/x-python",
   "name": "python",
   "nbconvert_exporter": "python",
   "pygments_lexer": "ipython3",
   "version": "3.6.1"
  }
 },
 "nbformat": 4,
 "nbformat_minor": 2
}
